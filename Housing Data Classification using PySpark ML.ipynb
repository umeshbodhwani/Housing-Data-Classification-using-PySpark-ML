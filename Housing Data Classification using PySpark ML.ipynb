{
 "cells": [
  {
   "cell_type": "markdown",
   "metadata": {},
   "source": [
    "<h1>Initialize PySpark</h1>"
   ]
  },
  {
   "cell_type": "code",
   "execution_count": 1,
   "metadata": {},
   "outputs": [],
   "source": [
    "import pyspark\n",
    "from pyspark.sql import SparkSession\n",
    "spark = SparkSession.builder.appName(\"PySpark ML\").getOrCreate()\n"
   ]
  },
  {
   "cell_type": "markdown",
   "metadata": {},
   "source": [
    "<h1>All necessary imports</h1>\n"
   ]
  },
  {
   "cell_type": "code",
   "execution_count": 2,
   "metadata": {},
   "outputs": [],
   "source": [
    "from pyspark.sql.types import *\n",
    "from pyspark.sql.functions import col\n",
    "from pyspark.ml.feature import QuantileDiscretizer\n",
    "from pyspark.ml.feature import VectorAssembler\n",
    "from pyspark.ml.classification import RandomForestClassifier\n",
    "\n",
    "from pyspark.ml import Pipeline, PipelineModel\n",
    "from pyspark.ml.evaluation import MulticlassClassificationEvaluator\n",
    "from pyspark.ml.classification import LogisticRegression\n",
    "from pyspark.ml.evaluation import BinaryClassificationEvaluator"
   ]
  },
  {
   "cell_type": "markdown",
   "metadata": {},
   "source": [
    "<h1>Read the data and split into training and testing sets</h1>"
   ]
  },
  {
   "cell_type": "code",
   "execution_count": 3,
   "metadata": {},
   "outputs": [],
   "source": [
    "df = spark.read.format(\"csv\").option(\"header\", \"false\").load(\"../data/cal_housing.data\")\n",
    "training_df,testing_df = df.randomSplit((0.8,0.2),seed=1234)"
   ]
  },
  {
   "cell_type": "markdown",
   "metadata": {},
   "source": [
    "<h1>Write the prepareData function</h1>"
   ]
  },
  {
   "cell_type": "code",
   "execution_count": 4,
   "metadata": {},
   "outputs": [],
   "source": [
    "from pyspark.sql.functions import udf\n",
    "def prepareData(df):\n",
    "    df = df.toDF(\"Longitude\",\"Latitude\",\"MedianAge\",\"TotalRooms\",\"TotalBedrooms\",\"Population\",\"Households\",\n",
    "            \"MedianIncome\",\"MedianHomeValue\")\n",
    "    df = df.select(*(col(c).cast(\"float\").alias(c) for c in df.schema.names))\n",
    "    df = df.withColumn(\"MedianHomeValue\",col(\"MedianHomeValue\")/100000)\n",
    "    df = df.withColumn(\"RoomsPerHouse\", col(\"TotalRooms\")/col(\"Households\"))\\\n",
    "        .withColumn(\"PeoplePerHouse\", col(\"Population\")/col(\"Households\"))\\\n",
    "       .withColumn(\"BedroomsPerHouse\", col(\"TotalBedrooms\")/col(\"Households\"))\n",
    "    df_analysis = df.select(\"MedianHomeValue\", \n",
    "              \"MedianAge\", \n",
    "              \"Population\", \n",
    "              \"Households\", \n",
    "              \"MedianIncome\", \n",
    "              \"RoomsPerHouse\", \n",
    "              \"PeoplePerHouse\", \n",
    "              \"BedroomsPerHouse\")\n",
    "    return df_analysis\n",
    "\n",
    "\n"
   ]
  },
  {
   "cell_type": "markdown",
   "metadata": {},
   "source": [
    "<h1>Transform the dependent variable into two buckets</h1>\n",
    "<li>Use QuantileDiscretizer with two buckets</li>\n",
    "<li><a href=\"https://spark.apache.org/docs/latest/ml-features#quantilediscretizer\">https://spark.apache.org/docs/latest/ml-features#quantilediscretizer</a></li>\n"
   ]
  },
  {
   "cell_type": "code",
   "execution_count": 5,
   "metadata": {},
   "outputs": [
    {
     "data": {
      "text/plain": [
       "10296"
      ]
     },
     "execution_count": 5,
     "metadata": {},
     "output_type": "execute_result"
    }
   ],
   "source": [
    "\n",
    "discretizer = QuantileDiscretizer()\\\n",
    "  .setInputCol(\"MedianHomeValue\")\\\n",
    "  .setOutputCol(\"DVBucket\") \\\n",
    "  .setNumBuckets(2)\n",
    "\n",
    "bucketizer = discretizer.fit(prepareData(df))\n",
    "bucketed = bucketizer.transform(prepareData(df))\n",
    "bucketed.where(bucketed[\"DVBucket\"]==0).count()"
   ]
  },
  {
   "cell_type": "markdown",
   "metadata": {},
   "source": [
    "<h1>Transform independent variable features into a vector</h1>"
   ]
  },
  {
   "cell_type": "code",
   "execution_count": 6,
   "metadata": {},
   "outputs": [],
   "source": [
    "assembler = VectorAssembler()\\\n",
    "    .setInputCols((\"MedianAge\",\"Population\", \"Households\", \n",
    "                        \"MedianIncome\", \"RoomsPerHouse\", \"PeoplePerHouse\", \"BedroomsPerHouse\"))\\\n",
    "    .setOutputCol(\"features\")\n",
    "\n"
   ]
  },
  {
   "cell_type": "markdown",
   "metadata": {},
   "source": [
    "<h1>Build two models</h1>\n",
    "<li>A Logistic Regression Model</li>\n",
    "<li>A Random Forest Classifier</li>\n",
    "<li><a href=\"https://spark.apache.org/docs/latest/ml-classification-regression.html\">https://spark.apache.org/docs/latest/ml-classification-regression.html</a></li>"
   ]
  },
  {
   "cell_type": "code",
   "execution_count": 7,
   "metadata": {},
   "outputs": [],
   "source": [
    "rrr = RandomForestClassifier()\\\n",
    "    .setFeaturesCol(\"features\")\\\n",
    "    .setLabelCol(\"DVBucket\")\n",
    "\n",
    "logrr = LogisticRegression()\\\n",
    "    .setFeaturesCol(\"features\")\\\n",
    "    .setLabelCol(\"DVBucket\")\n",
    "\n"
   ]
  },
  {
   "cell_type": "markdown",
   "metadata": {},
   "source": [
    "<h1>Create pipelines</h1>\n",
    "<li>Create p1 with two stages: the bucketizer that uses QuantileDiscretizer and the assembler</li>\n",
    "<li>Create p2 with two stages: p1 and logistic regression</li>\n",
    "<li>Create p3 with two stages: p1 and random forest classifier</li>"
   ]
  },
  {
   "cell_type": "code",
   "execution_count": 8,
   "metadata": {},
   "outputs": [],
   "source": [
    "p1=Pipeline().setStages((bucketizer,assembler))\n",
    "p2 = Pipeline().setStages((p1,logrr))\n",
    "p3 = Pipeline().setStages((p1,rrr))"
   ]
  },
  {
   "cell_type": "markdown",
   "metadata": {},
   "source": [
    "<h1>Run the two pipelines with training data</h1>"
   ]
  },
  {
   "cell_type": "code",
   "execution_count": 9,
   "metadata": {},
   "outputs": [],
   "source": [
    "lrmodel = p2.fit(prepareData(training_df))\n",
    "rcmodel = p3.fit(prepareData(training_df))"
   ]
  },
  {
   "cell_type": "markdown",
   "metadata": {},
   "source": [
    "<h1>Get predictions for both models</h1>\n",
    "<li>On training as well as testing data sets</li>"
   ]
  },
  {
   "cell_type": "code",
   "execution_count": 10,
   "metadata": {},
   "outputs": [],
   "source": [
    "lr_pred = lrmodel.transform(prepareData(testing_df))\n",
    "rc_pred = rcmodel.transform(prepareData(testing_df))\n",
    "lr_train_pred = lrmodel.transform(prepareData(training_df))\n",
    "rc_train_pred = rcmodel.transform(prepareData(training_df))"
   ]
  },
  {
   "cell_type": "markdown",
   "metadata": {},
   "source": [
    "<h1>Print testing stats for each model</h1>\n",
    "<li>Accuracy</li>\n",
    "<li>Area under ROC</li>\n",
    "<li>Area under Precision-Recall curve</li>"
   ]
  },
  {
   "cell_type": "code",
   "execution_count": 11,
   "metadata": {},
   "outputs": [
    {
     "name": "stdout",
     "output_type": "stream",
     "text": [
      "Test Area Under ROC Logisitic Regression 0.8837235844636362\n",
      "Test Area Under ROC Random Forest Classifier 0.8701530892788973\n",
      "Test Area under PR Logistic Regression 0.8950705615091563\n",
      "Test Area under PR Random Forest Classifier 0.8733340731629651\n",
      "Test Accuracy Logistic Regression 0.8050949291035808\n",
      "Test Accuracy Random Forest Classifier 0.7925979331891372\n"
     ]
    }
   ],
   "source": [
    "evaluator = BinaryClassificationEvaluator(labelCol=\"DVBucket\")\n",
    "print('Test Area Under ROC Logisitic Regression', evaluator.evaluate(lr_pred))\n",
    "print('Test Area Under ROC Random Forest Classifier', evaluator.evaluate(rc_pred))\n",
    "evaluator.setMetricName(\"areaUnderPR\")\n",
    "print('Test Area under PR Logistic Regression',evaluator.evaluate(lr_pred))\n",
    "print('Test Area under PR Random Forest Classifier',evaluator.evaluate(rc_pred))\n",
    "from pyspark.ml.evaluation import MulticlassClassificationEvaluator\n",
    "evaluator = MulticlassClassificationEvaluator()\\\n",
    "  .setLabelCol(\"DVBucket\")\\\n",
    "  .setPredictionCol(\"prediction\")\\\n",
    "  .setMetricName(\"accuracy\")\n",
    "print(\"Test Accuracy Logistic Regression\",evaluator.evaluate(lr_pred))\n",
    "print(\"Test Accuracy Random Forest Classifier\",evaluator.evaluate(rc_pred))\n"
   ]
  },
  {
   "cell_type": "markdown",
   "metadata": {},
   "source": [
    "<h1>Print training stats for each model</h1>\n",
    "<li>Accuracy</li>\n",
    "<li>Area under ROC</li>\n",
    "<li>Area under Precision-Recall curve</li>"
   ]
  },
  {
   "cell_type": "code",
   "execution_count": 12,
   "metadata": {},
   "outputs": [
    {
     "name": "stdout",
     "output_type": "stream",
     "text": [
      "Train Area Under ROC Logisitic Regression 0.888932320750495\n",
      "Train Area Under ROC Random Forest Classifier 0.8880012525698456\n",
      "Train Area under PR Logistic Regression 0.8968065170871625\n",
      "Train Area under PR Random Forest Classifier 0.8926331438715299\n",
      "Train Accuracy Logistic Regression 0.809393773894047\n",
      "Train Accuracy Random Forest Classifier 0.805631409672917\n"
     ]
    }
   ],
   "source": [
    "evaluator = BinaryClassificationEvaluator(labelCol=\"DVBucket\")\n",
    "print('Train Area Under ROC Logisitic Regression', evaluator.evaluate(lr_train_pred))\n",
    "print('Train Area Under ROC Random Forest Classifier', evaluator.evaluate(rc_train_pred))\n",
    "evaluator.setMetricName(\"areaUnderPR\")\n",
    "print('Train Area under PR Logistic Regression',evaluator.evaluate(lr_train_pred))\n",
    "print('Train Area under PR Random Forest Classifier',evaluator.evaluate(rc_train_pred))\n",
    "from pyspark.ml.evaluation import MulticlassClassificationEvaluator\n",
    "evaluator = MulticlassClassificationEvaluator()\\\n",
    "  .setLabelCol(\"DVBucket\")\\\n",
    "  .setPredictionCol(\"prediction\")\\\n",
    "  .setMetricName(\"accuracy\")\n",
    "print(\"Train Accuracy Logistic Regression\",evaluator.evaluate(lr_train_pred))\n",
    "print(\"Train Accuracy Random Forest Classifier\",evaluator.evaluate(rc_train_pred))\n",
    "\n"
   ]
  },
  {
   "cell_type": "markdown",
   "metadata": {},
   "source": [
    "<h1>Coefficients in the logistic regression</h1>\n",
    "<li>Still dominated by income but some other flavors have crept in</li>\n",
    "<li>Print this out nicely formatted. Each line contains the feature and it's coefficient</li>"
   ]
  },
  {
   "cell_type": "code",
   "execution_count": 13,
   "metadata": {},
   "outputs": [
    {
     "data": {
      "text/html": [
       "<div>\n",
       "<style scoped>\n",
       "    .dataframe tbody tr th:only-of-type {\n",
       "        vertical-align: middle;\n",
       "    }\n",
       "\n",
       "    .dataframe tbody tr th {\n",
       "        vertical-align: top;\n",
       "    }\n",
       "\n",
       "    .dataframe thead th {\n",
       "        text-align: right;\n",
       "    }\n",
       "</style>\n",
       "<table border=\"1\" class=\"dataframe\">\n",
       "  <thead>\n",
       "    <tr style=\"text-align: right;\">\n",
       "      <th></th>\n",
       "      <th>0</th>\n",
       "      <th>1</th>\n",
       "    </tr>\n",
       "  </thead>\n",
       "  <tbody>\n",
       "    <tr>\n",
       "      <td>0</td>\n",
       "      <td>0.044874</td>\n",
       "      <td>MedianAge</td>\n",
       "    </tr>\n",
       "    <tr>\n",
       "      <td>1</td>\n",
       "      <td>-0.001111</td>\n",
       "      <td>Population</td>\n",
       "    </tr>\n",
       "    <tr>\n",
       "      <td>2</td>\n",
       "      <td>0.003759</td>\n",
       "      <td>Households</td>\n",
       "    </tr>\n",
       "    <tr>\n",
       "      <td>3</td>\n",
       "      <td>1.649667</td>\n",
       "      <td>MedianIncome</td>\n",
       "    </tr>\n",
       "    <tr>\n",
       "      <td>4</td>\n",
       "      <td>-0.679677</td>\n",
       "      <td>RoomsPerHouse</td>\n",
       "    </tr>\n",
       "    <tr>\n",
       "      <td>5</td>\n",
       "      <td>-0.147591</td>\n",
       "      <td>PeoplePerHouse</td>\n",
       "    </tr>\n",
       "    <tr>\n",
       "      <td>6</td>\n",
       "      <td>2.834328</td>\n",
       "      <td>BedroomsPerHouse</td>\n",
       "    </tr>\n",
       "  </tbody>\n",
       "</table>\n",
       "</div>"
      ],
      "text/plain": [
       "          0                 1\n",
       "0  0.044874         MedianAge\n",
       "1 -0.001111        Population\n",
       "2  0.003759        Households\n",
       "3  1.649667      MedianIncome\n",
       "4 -0.679677     RoomsPerHouse\n",
       "5 -0.147591    PeoplePerHouse\n",
       "6  2.834328  BedroomsPerHouse"
      ]
     },
     "execution_count": 13,
     "metadata": {},
     "output_type": "execute_result"
    }
   ],
   "source": [
    "import pandas as pd\n",
    "pd.DataFrame(list(zip(list(lrmodel.stages[1].coefficients),\n",
    "    (\"MedianAge\",\"Population\", \"Households\", \"MedianIncome\", \"RoomsPerHouse\", \"PeoplePerHouse\", \"BedroomsPerHouse\"))))"
   ]
  },
  {
   "cell_type": "markdown",
   "metadata": {},
   "source": [
    "<h1>Draw Training ROC and Precision-Recall Curves (LR Model only)</h1>\n",
    "<li>include the area under roc and area under pr curves in your plots</li>"
   ]
  },
  {
   "cell_type": "code",
   "execution_count": 14,
   "metadata": {},
   "outputs": [
    {
     "data": {
      "text/plain": [
       "<matplotlib.axes._subplots.AxesSubplot at 0x7fa0c07f57d0>"
      ]
     },
     "execution_count": 14,
     "metadata": {},
     "output_type": "execute_result"
    },
    {
     "data": {
      "image/png": "[encoded data removed]",
      "text/plain": [
       "<Figure size 432x288 with 1 Axes>"
      ]
     },
     "metadata": {
      "needs_background": "light"
     },
     "output_type": "display_data"
    }
   ],
   "source": [
    "%matplotlib inline\n",
    "lrmodel.stages[1].summary.pr.toPandas().plot()"
   ]
  },
  {
   "cell_type": "code",
   "execution_count": 15,
   "metadata": {},
   "outputs": [
    {
     "name": "stdout",
     "output_type": "stream",
     "text": [
      "0.8889226800457942\n"
     ]
    },
    {
     "data": {
      "text/plain": [
       "0.809393773894047"
      ]
     },
     "execution_count": 15,
     "metadata": {},
     "output_type": "execute_result"
    }
   ],
   "source": [
    "print(lrmodel.stages[1].summary.areaUnderROC)\n",
    "lrmodel.stages[1].summary.accuracy"
   ]
  },
  {
   "cell_type": "code",
   "execution_count": 16,
   "metadata": {},
   "outputs": [
    {
     "data": {
      "image/png": "[encoded data removed]",
      "text/plain": [
       "<Figure size 360x360 with 1 Axes>"
      ]
     },
     "metadata": {
      "needs_background": "light"
     },
     "output_type": "display_data"
    }
   ],
   "source": [
    "fpr = lrmodel.stages[1].summary.roc.select(\"FPR\").collect()\n",
    "tpr = lrmodel.stages[1].summary.roc.select(\"TPR\").collect()\n",
    "import matplotlib.pyplot as plt\n",
    "plt.figure(figsize=(5,5))\n",
    "plt.plot([0, 1], [0, 1], 'r--')\n",
    "plt.plot(fpr,tpr)\n",
    "plt.xlabel('FPR')\n",
    "plt.ylabel('TPR')\n",
    "plt.show()"
   ]
  },
  {
   "cell_type": "markdown",
   "metadata": {},
   "source": [
    "<li>https://spark.apache.org/docs/latest/mllib-evaluation-metrics.html#binary-classification</li>"
   ]
  },
  {
   "cell_type": "markdown",
   "metadata": {},
   "source": [
    "<h1>Draw testing ROC</h1>\n",
    "<li>The predictions contain two useful columns, the probability and the dependent value bucket</li>\n",
    "<li>Extract these into a data frame</li>\n",
    "<li>Note that the probability is expressed as a pair (probability of 0 and probability of 1)</li>\n",
    "<li>Extract the probability of 1 from this (convert the df into an rdd, it will be easier!)</li>\n",
    "<li>Also convert all values to float from Spark DoubleType (sklearn won't understand DoubleType)</li>"
   ]
  },
  {
   "cell_type": "code",
   "execution_count": 17,
   "metadata": {},
   "outputs": [
    {
     "data": {
      "image/png": "[encoded data removed]",
      "text/plain": [
       "<Figure size 360x360 with 1 Axes>"
      ]
     },
     "metadata": {
      "needs_background": "light"
     },
     "output_type": "display_data"
    }
   ],
   "source": [
    "preds = rc_pred.select('DVBucket','probability')\\\n",
    "    .rdd.map(lambda row: (float(row['probability'][1]), float(row['DVBucket'])))\\\n",
    "    .collect()\n",
    "from sklearn.metrics import roc_curve,auc,precision_recall_curve\n",
    "\n",
    "y_score, y_true = zip(*preds)\n",
    "fpr, tpr, thresholds = roc_curve(y_true, y_score, pos_label = 1)\n",
    "import matplotlib.pyplot as plt\n",
    "plt.figure(figsize=(5,5))\n",
    "plt.plot([0, 1], [0, 1], 'r--')\n",
    "plt.plot(fpr,tpr)\n",
    "plt.xlabel('FPR')\n",
    "plt.ylabel('TPR')\n",
    "plt.show()"
   ]
  },
  {
   "cell_type": "code",
   "execution_count": 18,
   "metadata": {},
   "outputs": [
    {
     "data": {
      "image/png": "[encoded data removed]",
      "text/plain": [
       "<Figure size 360x360 with 1 Axes>"
      ]
     },
     "metadata": {
      "needs_background": "light"
     },
     "output_type": "display_data"
    }
   ],
   "source": [
    "preds = lr_pred.select('DVBucket','probability')\\\n",
    "    .rdd.map(lambda row: (float(row['probability'][1]), float(row['DVBucket'])))\\\n",
    "    .collect()\n",
    "from sklearn.metrics import roc_curve,auc,precision_recall_curve\n",
    "\n",
    "y_score, y_true = zip(*preds)\n",
    "fpr, tpr, thresholds = roc_curve(y_true, y_score, pos_label = 1)\n",
    "import matplotlib.pyplot as plt\n",
    "plt.figure(figsize=(5,5))\n",
    "plt.plot([0, 1], [0, 1], 'r--')\n",
    "plt.plot(fpr,tpr)\n",
    "plt.xlabel('FPR')\n",
    "plt.ylabel('TPR')\n",
    "plt.show()"
   ]
  }
 ],
 "metadata": {
  "kernelspec": {
   "display_name": "Python 3",
   "language": "python",
   "name": "python3"
  },
  "language_info": {
   "codemirror_mode": {
    "name": "ipython",
    "version": 3
   },
   "file_extension": ".py",
   "mimetype": "text/x-python",
   "name": "python",
   "nbconvert_exporter": "python",
   "pygments_lexer": "ipython3",
   "version": "3.7.6"
  }
 },
 "nbformat": 4,
 "nbformat_minor": 2
}
